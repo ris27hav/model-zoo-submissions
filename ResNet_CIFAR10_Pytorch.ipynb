{
  "nbformat": 4,
  "nbformat_minor": 0,
  "metadata": {
    "colab": {
      "name": "ResNet-CIFAR10_Pytorch.ipynb",
      "provenance": [],
      "collapsed_sections": [
        "YD4fWBQ3FJ7I",
        "Zz7DHLXpOpwH",
        "t0An86AZSdbI",
        "GM-pybTCTIa2"
      ]
    },
    "kernelspec": {
      "name": "python3",
      "display_name": "Python 3"
    },
    "language_info": {
      "name": "python"
    },
    "accelerator": "GPU"
  },
  "cells": [
    {
      "cell_type": "markdown",
      "metadata": {
        "id": "qFxuhszyFDoL"
      },
      "source": [
        "# **Training ResNet-34 on CIFAR10**"
      ]
    },
    {
      "cell_type": "code",
      "metadata": {
        "id": "OCNMi66bGIbw"
      },
      "source": [
        "import torch\n",
        "import torchvision\n",
        "import os\n",
        "import numpy as np\n",
        "\n",
        "from torchvision.datasets import ImageFolder\n",
        "import torchvision.transforms as transforms\n",
        "from torchvision.utils import make_grid\n",
        "\n",
        "from torch.utils.data.sampler import SubsetRandomSampler\n",
        "from torch.utils.data.dataloader import DataLoader\n",
        "import torch.nn as nn\n",
        "import torch.nn.functional as F\n",
        "\n",
        "import matplotlib.pyplot as plt\n",
        "%matplotlib inline"
      ],
      "execution_count": 1,
      "outputs": []
    },
    {
      "cell_type": "markdown",
      "metadata": {
        "id": "YD4fWBQ3FJ7I"
      },
      "source": [
        "### **Loading the dataset**"
      ]
    },
    {
      "cell_type": "code",
      "metadata": {
        "id": "8EuM2SObXQEk"
      },
      "source": [
        "# Normalization & Data Augmentation\n",
        "stats = ((0.4914, 0.4822, 0.4465), (0.2023, 0.1994, 0.2010))\n",
        "\n",
        "train_tfms = transforms.Compose([transforms.RandomCrop(32, padding=4), \n",
        "                                 transforms.RandomHorizontalFlip(),\n",
        "                                 transforms.ToTensor(), \n",
        "                                 transforms.Normalize(*stats,inplace=True)])\n",
        "test_tfms = transforms.Compose([transforms.ToTensor(), \n",
        "                                 transforms.Normalize(*stats)])"
      ],
      "execution_count": 2,
      "outputs": []
    },
    {
      "cell_type": "code",
      "metadata": {
        "colab": {
          "base_uri": "https://localhost:8080/"
        },
        "id": "fTcR1bo4Iapv",
        "outputId": "56b1027a-206d-4bd6-df72-2b6af198a1a5"
      },
      "source": [
        "batch_size = 128\n",
        "train_ds = torchvision.datasets.CIFAR10(root='./data', train=True, download=True, transform=train_tfms)\n",
        "train_dl = torch.utils.data.DataLoader(train_ds, batch_size=batch_size, shuffle=True, num_workers=2)\n",
        "\n",
        "test_ds = torchvision.datasets.CIFAR10(root='./data', train=False, download=True, transform=test_tfms)\n",
        "test_dl = torch.utils.data.DataLoader(test_ds, batch_size=batch_size*4, shuffle=False, num_workers=2)"
      ],
      "execution_count": 3,
      "outputs": [
        {
          "output_type": "stream",
          "text": [
            "Files already downloaded and verified\n",
            "Files already downloaded and verified\n"
          ],
          "name": "stdout"
        }
      ]
    },
    {
      "cell_type": "markdown",
      "metadata": {
        "id": "Zz7DHLXpOpwH"
      },
      "source": [
        "### **Implementation of ResNet Model**"
      ]
    },
    {
      "cell_type": "code",
      "metadata": {
        "id": "VxJAfyl8odaC"
      },
      "source": [
        "class BasicBlock(nn.Module):\n",
        "    def __init__(self, in_channels, out_channels, downsample=None, stride=1):\n",
        "        super().__init__()\n",
        "        self.conv1 = nn.Conv2d(in_channels, out_channels, kernel_size=3, stride=stride, padding=1)\n",
        "        self.bn1 = nn.BatchNorm2d(out_channels)\n",
        "        self.conv2 = nn.Conv2d(out_channels, out_channels, kernel_size=3, stride=1, padding=1)\n",
        "        self.bn2 = nn.BatchNorm2d(out_channels)\n",
        "        self.relu = nn.ReLU()\n",
        "        self.downsample = downsample\n",
        "    \n",
        "    def forward(self, x):\n",
        "        identity = x\n",
        "        out = self.relu(self.bn1(self.conv1(x)))\n",
        "        out = self.bn2(self.conv2(out))\n",
        "\n",
        "        if self.downsample is not None:\n",
        "            identity = self.downsample(x)\n",
        "\n",
        "        return self.relu(out + identity)"
      ],
      "execution_count": 4,
      "outputs": []
    },
    {
      "cell_type": "code",
      "metadata": {
        "id": "cbHjH5DaQMes"
      },
      "source": [
        "class BottleneckBlock(nn.Module):\n",
        "    def __init__(self, in_channels, out_channels, downsample=None, stride=1):\n",
        "        super().__init__()\n",
        "        self.expansion = 4\n",
        "        self.conv1 = nn.Conv2d(in_channels, out_channels, kernel_size=1)\n",
        "        self.bn1 = nn.BatchNorm2d(out_channels)\n",
        "        self.conv2 = nn.Conv2d(out_channels, out_channels, kernel_size=3, stride=stride, padding=1)\n",
        "        self.bn2 = nn.BatchNorm2d(out_channels)\n",
        "        self.conv3 = nn.Conv2d(out_channels, out_channels*self.expansion, kernel_size=1)\n",
        "        self.bn3 = nn.BatchNorm2d(out_channels*self.expansion)\n",
        "        self.relu = nn.ReLU()\n",
        "        self.downsample = downsample\n",
        "    \n",
        "    def forward(self, x):\n",
        "        identity = x\n",
        "        out = self.relu(self.bn1(self.conv1(x)))\n",
        "        out = self.relu(self.bn2(self.conv2(out)))\n",
        "        out = self.bn3(self.conv3(out))\n",
        "\n",
        "        if self.downsample is not None:\n",
        "            identity = self.downsample(x)\n",
        "\n",
        "        return self.relu(out + identity)"
      ],
      "execution_count": 5,
      "outputs": []
    },
    {
      "cell_type": "code",
      "metadata": {
        "id": "tBMw-BZwSb-d"
      },
      "source": [
        "class ResNet(nn.Module):\n",
        "    def __init__(self, block, layers, img_channels, classes,  expansion=4):\n",
        "        super().__init__()\n",
        "        self.conv1 = nn.Conv2d(img_channels, 64, kernel_size=7, stride=2, padding=3)\n",
        "        self.bn1 = nn.BatchNorm2d(64)\n",
        "        self.relu = nn.ReLU()\n",
        "        self.maxpool = nn.MaxPool2d(3, stride=2, padding=1)\n",
        "        self.in_channels = 64\n",
        "\n",
        "        self.expansion = expansion\n",
        "        \n",
        "        # ResNet layers\n",
        "        self.layer1 = self.make_layer(block, layers[0], out_channels=64, stride=1)\n",
        "        self.layer2 = self.make_layer(block, layers[1], out_channels=128, stride=2)\n",
        "        self.layer3 = self.make_layer(block, layers[2], out_channels=256, stride=2)\n",
        "        self.layer4 = self.make_layer(block, layers[3], out_channels=512, stride=2)\n",
        "\n",
        "        self.avgpool = nn.AdaptiveAvgPool2d((1,1))\n",
        "        self.flatten = nn.Flatten()\n",
        "        self.dropout = nn.Dropout(p=0.4) # added this layer because of overfitting\n",
        "        self.fc = nn.Linear(512*self.expansion, classes)\n",
        "    \n",
        "    def forward(self, x):\n",
        "        out = self.maxpool(self.relu(self.bn1(self.conv1(x))))\n",
        "        out = self.layer4(self.layer3(self.layer2(self.layer1(out))))\n",
        "        out = self.fc(self.flatten(self.avgpool(out)))\n",
        "        return out\n",
        "\n",
        "    def make_layer(self, block, num_blocks, out_channels, stride):\n",
        "        downsample = None\n",
        "        layers = []\n",
        "\n",
        "        if stride != 1 or self.in_channels != out_channels*self.expansion:\n",
        "            downsample = nn.Sequential(nn.Conv2d(self.in_channels, out_channels*self.expansion,\n",
        "                                                          kernel_size=1, stride=stride),\n",
        "                                                nn.BatchNorm2d(out_channels*self.expansion))\n",
        "        \n",
        "        layers.append(block(self.in_channels, out_channels, downsample, stride))\n",
        "        self.in_channels = out_channels*self.expansion\n",
        "\n",
        "        for i in range(num_blocks-1):\n",
        "            layers.append(block(self.in_channels, out_channels))\n",
        "\n",
        "        return nn.Sequential(*layers)"
      ],
      "execution_count": 6,
      "outputs": []
    },
    {
      "cell_type": "code",
      "metadata": {
        "id": "2yO-5HYphYnE"
      },
      "source": [
        "def ResNet18(img_channels=3, classes=1000):\n",
        "    return ResNet(BasicBlock, [2, 2, 2, 2], img_channels, classes, 1)\n",
        "\n",
        "def ResNet34(img_channels=3, classes=1000):\n",
        "    return ResNet(BasicBlock, [3, 4, 6, 3], img_channels, classes, 1)\n",
        "\n",
        "def ResNet50(img_channels=3, classes=1000):\n",
        "    return ResNet(BottleneckBlock, [3, 4, 6, 3], img_channels, classes)\n",
        "\n",
        "def ResNet101(img_channels=3, classes=1000):\n",
        "    return ResNet(BottleneckBlock, [3, 4, 23, 3], img_channels, classes)\n",
        "\n",
        "def ResNet152(img_channels=3, classes=1000):\n",
        "    return ResNet(BottleneckBlock, [3, 8, 36, 3], img_channels, classes)"
      ],
      "execution_count": 7,
      "outputs": []
    },
    {
      "cell_type": "code",
      "metadata": {
        "colab": {
          "base_uri": "https://localhost:8080/"
        },
        "id": "IGeEYGGDQ79W",
        "outputId": "a0388e94-b80a-4016-c3cd-7ad9286435d8"
      },
      "source": [
        "model = ResNet34(3, 10)\n",
        "for images, labels in train_dl:\n",
        "    print('Input shape: {}'.format(images.shape))\n",
        "    out = model(images)\n",
        "    print('Output shape: {}'.format(out.shape))\n",
        "    break"
      ],
      "execution_count": 8,
      "outputs": [
        {
          "output_type": "stream",
          "text": [
            "Input shape: torch.Size([128, 3, 32, 32])\n",
            "Output shape: torch.Size([128, 10])\n"
          ],
          "name": "stdout"
        }
      ]
    },
    {
      "cell_type": "markdown",
      "metadata": {
        "id": "t0An86AZSdbI"
      },
      "source": [
        "###**Moving data to GPU (if available)**"
      ]
    },
    {
      "cell_type": "code",
      "metadata": {
        "id": "7I7cxD99YKOD"
      },
      "source": [
        "def get_default_device():\n",
        "    \"\"\"Pick GPU if available\"\"\"\n",
        "    if torch.cuda.is_available():\n",
        "        return torch.device('cuda')\n",
        "    else:\n",
        "        return torch.device('cpu')\n",
        "\n",
        "def to_device(data, device):\n",
        "    \"\"\"Move tensor(s) to chosen device\"\"\"\n",
        "    if isinstance(data, (list, tuple)):\n",
        "        return [to_device(x, device) for x in data]\n",
        "    else:\n",
        "        return data.to(device, non_blocking=True)"
      ],
      "execution_count": 9,
      "outputs": []
    },
    {
      "cell_type": "code",
      "metadata": {
        "id": "HqXcxnKJf1xf"
      },
      "source": [
        "class DeviceDataLoader():\n",
        "    \"\"\"Wrap a dataloader to move data to a device\"\"\"\n",
        "    def __init__(self, dl, device):\n",
        "        self.dl = dl\n",
        "        self.device = device\n",
        "    \n",
        "    def __iter__(self):\n",
        "        \"\"\"Yield a batch of data after moving it to a device\"\"\"\n",
        "        for batch in self.dl:\n",
        "            yield to_device(batch, self.device)\n",
        "    \n",
        "    def __len__(self):\n",
        "        \"\"\"Number of bathces\"\"\"\n",
        "        return len(self.dl)"
      ],
      "execution_count": 10,
      "outputs": []
    },
    {
      "cell_type": "code",
      "metadata": {
        "colab": {
          "base_uri": "https://localhost:8080/"
        },
        "id": "bOExlDTcdWQx",
        "outputId": "8274a3fe-0000-4aca-8a16-944e70ca8497"
      },
      "source": [
        "device = get_default_device()\n",
        "device"
      ],
      "execution_count": 11,
      "outputs": [
        {
          "output_type": "execute_result",
          "data": {
            "text/plain": [
              "device(type='cuda')"
            ]
          },
          "metadata": {
            "tags": []
          },
          "execution_count": 11
        }
      ]
    },
    {
      "cell_type": "code",
      "metadata": {
        "colab": {
          "base_uri": "https://localhost:8080/"
        },
        "id": "Z79ZMJ2VdZaL",
        "outputId": "357e56c9-ada5-4c45-fc48-56c6f80d0419"
      },
      "source": [
        "train_dl = DeviceDataLoader(train_dl, device)\n",
        "test_dl = DeviceDataLoader(test_dl, device)\n",
        "to_device(model, device)"
      ],
      "execution_count": 12,
      "outputs": [
        {
          "output_type": "execute_result",
          "data": {
            "text/plain": [
              "ResNet(\n",
              "  (conv1): Conv2d(3, 64, kernel_size=(7, 7), stride=(2, 2), padding=(3, 3))\n",
              "  (bn1): BatchNorm2d(64, eps=1e-05, momentum=0.1, affine=True, track_running_stats=True)\n",
              "  (relu): ReLU()\n",
              "  (maxpool): MaxPool2d(kernel_size=3, stride=2, padding=1, dilation=1, ceil_mode=False)\n",
              "  (layer1): Sequential(\n",
              "    (0): BasicBlock(\n",
              "      (conv1): Conv2d(64, 64, kernel_size=(3, 3), stride=(1, 1), padding=(1, 1))\n",
              "      (bn1): BatchNorm2d(64, eps=1e-05, momentum=0.1, affine=True, track_running_stats=True)\n",
              "      (conv2): Conv2d(64, 64, kernel_size=(3, 3), stride=(1, 1), padding=(1, 1))\n",
              "      (bn2): BatchNorm2d(64, eps=1e-05, momentum=0.1, affine=True, track_running_stats=True)\n",
              "      (relu): ReLU()\n",
              "    )\n",
              "    (1): BasicBlock(\n",
              "      (conv1): Conv2d(64, 64, kernel_size=(3, 3), stride=(1, 1), padding=(1, 1))\n",
              "      (bn1): BatchNorm2d(64, eps=1e-05, momentum=0.1, affine=True, track_running_stats=True)\n",
              "      (conv2): Conv2d(64, 64, kernel_size=(3, 3), stride=(1, 1), padding=(1, 1))\n",
              "      (bn2): BatchNorm2d(64, eps=1e-05, momentum=0.1, affine=True, track_running_stats=True)\n",
              "      (relu): ReLU()\n",
              "    )\n",
              "    (2): BasicBlock(\n",
              "      (conv1): Conv2d(64, 64, kernel_size=(3, 3), stride=(1, 1), padding=(1, 1))\n",
              "      (bn1): BatchNorm2d(64, eps=1e-05, momentum=0.1, affine=True, track_running_stats=True)\n",
              "      (conv2): Conv2d(64, 64, kernel_size=(3, 3), stride=(1, 1), padding=(1, 1))\n",
              "      (bn2): BatchNorm2d(64, eps=1e-05, momentum=0.1, affine=True, track_running_stats=True)\n",
              "      (relu): ReLU()\n",
              "    )\n",
              "  )\n",
              "  (layer2): Sequential(\n",
              "    (0): BasicBlock(\n",
              "      (conv1): Conv2d(64, 128, kernel_size=(3, 3), stride=(2, 2), padding=(1, 1))\n",
              "      (bn1): BatchNorm2d(128, eps=1e-05, momentum=0.1, affine=True, track_running_stats=True)\n",
              "      (conv2): Conv2d(128, 128, kernel_size=(3, 3), stride=(1, 1), padding=(1, 1))\n",
              "      (bn2): BatchNorm2d(128, eps=1e-05, momentum=0.1, affine=True, track_running_stats=True)\n",
              "      (relu): ReLU()\n",
              "      (downsample): Sequential(\n",
              "        (0): Conv2d(64, 128, kernel_size=(1, 1), stride=(2, 2))\n",
              "        (1): BatchNorm2d(128, eps=1e-05, momentum=0.1, affine=True, track_running_stats=True)\n",
              "      )\n",
              "    )\n",
              "    (1): BasicBlock(\n",
              "      (conv1): Conv2d(128, 128, kernel_size=(3, 3), stride=(1, 1), padding=(1, 1))\n",
              "      (bn1): BatchNorm2d(128, eps=1e-05, momentum=0.1, affine=True, track_running_stats=True)\n",
              "      (conv2): Conv2d(128, 128, kernel_size=(3, 3), stride=(1, 1), padding=(1, 1))\n",
              "      (bn2): BatchNorm2d(128, eps=1e-05, momentum=0.1, affine=True, track_running_stats=True)\n",
              "      (relu): ReLU()\n",
              "    )\n",
              "    (2): BasicBlock(\n",
              "      (conv1): Conv2d(128, 128, kernel_size=(3, 3), stride=(1, 1), padding=(1, 1))\n",
              "      (bn1): BatchNorm2d(128, eps=1e-05, momentum=0.1, affine=True, track_running_stats=True)\n",
              "      (conv2): Conv2d(128, 128, kernel_size=(3, 3), stride=(1, 1), padding=(1, 1))\n",
              "      (bn2): BatchNorm2d(128, eps=1e-05, momentum=0.1, affine=True, track_running_stats=True)\n",
              "      (relu): ReLU()\n",
              "    )\n",
              "    (3): BasicBlock(\n",
              "      (conv1): Conv2d(128, 128, kernel_size=(3, 3), stride=(1, 1), padding=(1, 1))\n",
              "      (bn1): BatchNorm2d(128, eps=1e-05, momentum=0.1, affine=True, track_running_stats=True)\n",
              "      (conv2): Conv2d(128, 128, kernel_size=(3, 3), stride=(1, 1), padding=(1, 1))\n",
              "      (bn2): BatchNorm2d(128, eps=1e-05, momentum=0.1, affine=True, track_running_stats=True)\n",
              "      (relu): ReLU()\n",
              "    )\n",
              "  )\n",
              "  (layer3): Sequential(\n",
              "    (0): BasicBlock(\n",
              "      (conv1): Conv2d(128, 256, kernel_size=(3, 3), stride=(2, 2), padding=(1, 1))\n",
              "      (bn1): BatchNorm2d(256, eps=1e-05, momentum=0.1, affine=True, track_running_stats=True)\n",
              "      (conv2): Conv2d(256, 256, kernel_size=(3, 3), stride=(1, 1), padding=(1, 1))\n",
              "      (bn2): BatchNorm2d(256, eps=1e-05, momentum=0.1, affine=True, track_running_stats=True)\n",
              "      (relu): ReLU()\n",
              "      (downsample): Sequential(\n",
              "        (0): Conv2d(128, 256, kernel_size=(1, 1), stride=(2, 2))\n",
              "        (1): BatchNorm2d(256, eps=1e-05, momentum=0.1, affine=True, track_running_stats=True)\n",
              "      )\n",
              "    )\n",
              "    (1): BasicBlock(\n",
              "      (conv1): Conv2d(256, 256, kernel_size=(3, 3), stride=(1, 1), padding=(1, 1))\n",
              "      (bn1): BatchNorm2d(256, eps=1e-05, momentum=0.1, affine=True, track_running_stats=True)\n",
              "      (conv2): Conv2d(256, 256, kernel_size=(3, 3), stride=(1, 1), padding=(1, 1))\n",
              "      (bn2): BatchNorm2d(256, eps=1e-05, momentum=0.1, affine=True, track_running_stats=True)\n",
              "      (relu): ReLU()\n",
              "    )\n",
              "    (2): BasicBlock(\n",
              "      (conv1): Conv2d(256, 256, kernel_size=(3, 3), stride=(1, 1), padding=(1, 1))\n",
              "      (bn1): BatchNorm2d(256, eps=1e-05, momentum=0.1, affine=True, track_running_stats=True)\n",
              "      (conv2): Conv2d(256, 256, kernel_size=(3, 3), stride=(1, 1), padding=(1, 1))\n",
              "      (bn2): BatchNorm2d(256, eps=1e-05, momentum=0.1, affine=True, track_running_stats=True)\n",
              "      (relu): ReLU()\n",
              "    )\n",
              "    (3): BasicBlock(\n",
              "      (conv1): Conv2d(256, 256, kernel_size=(3, 3), stride=(1, 1), padding=(1, 1))\n",
              "      (bn1): BatchNorm2d(256, eps=1e-05, momentum=0.1, affine=True, track_running_stats=True)\n",
              "      (conv2): Conv2d(256, 256, kernel_size=(3, 3), stride=(1, 1), padding=(1, 1))\n",
              "      (bn2): BatchNorm2d(256, eps=1e-05, momentum=0.1, affine=True, track_running_stats=True)\n",
              "      (relu): ReLU()\n",
              "    )\n",
              "    (4): BasicBlock(\n",
              "      (conv1): Conv2d(256, 256, kernel_size=(3, 3), stride=(1, 1), padding=(1, 1))\n",
              "      (bn1): BatchNorm2d(256, eps=1e-05, momentum=0.1, affine=True, track_running_stats=True)\n",
              "      (conv2): Conv2d(256, 256, kernel_size=(3, 3), stride=(1, 1), padding=(1, 1))\n",
              "      (bn2): BatchNorm2d(256, eps=1e-05, momentum=0.1, affine=True, track_running_stats=True)\n",
              "      (relu): ReLU()\n",
              "    )\n",
              "    (5): BasicBlock(\n",
              "      (conv1): Conv2d(256, 256, kernel_size=(3, 3), stride=(1, 1), padding=(1, 1))\n",
              "      (bn1): BatchNorm2d(256, eps=1e-05, momentum=0.1, affine=True, track_running_stats=True)\n",
              "      (conv2): Conv2d(256, 256, kernel_size=(3, 3), stride=(1, 1), padding=(1, 1))\n",
              "      (bn2): BatchNorm2d(256, eps=1e-05, momentum=0.1, affine=True, track_running_stats=True)\n",
              "      (relu): ReLU()\n",
              "    )\n",
              "  )\n",
              "  (layer4): Sequential(\n",
              "    (0): BasicBlock(\n",
              "      (conv1): Conv2d(256, 512, kernel_size=(3, 3), stride=(2, 2), padding=(1, 1))\n",
              "      (bn1): BatchNorm2d(512, eps=1e-05, momentum=0.1, affine=True, track_running_stats=True)\n",
              "      (conv2): Conv2d(512, 512, kernel_size=(3, 3), stride=(1, 1), padding=(1, 1))\n",
              "      (bn2): BatchNorm2d(512, eps=1e-05, momentum=0.1, affine=True, track_running_stats=True)\n",
              "      (relu): ReLU()\n",
              "      (downsample): Sequential(\n",
              "        (0): Conv2d(256, 512, kernel_size=(1, 1), stride=(2, 2))\n",
              "        (1): BatchNorm2d(512, eps=1e-05, momentum=0.1, affine=True, track_running_stats=True)\n",
              "      )\n",
              "    )\n",
              "    (1): BasicBlock(\n",
              "      (conv1): Conv2d(512, 512, kernel_size=(3, 3), stride=(1, 1), padding=(1, 1))\n",
              "      (bn1): BatchNorm2d(512, eps=1e-05, momentum=0.1, affine=True, track_running_stats=True)\n",
              "      (conv2): Conv2d(512, 512, kernel_size=(3, 3), stride=(1, 1), padding=(1, 1))\n",
              "      (bn2): BatchNorm2d(512, eps=1e-05, momentum=0.1, affine=True, track_running_stats=True)\n",
              "      (relu): ReLU()\n",
              "    )\n",
              "    (2): BasicBlock(\n",
              "      (conv1): Conv2d(512, 512, kernel_size=(3, 3), stride=(1, 1), padding=(1, 1))\n",
              "      (bn1): BatchNorm2d(512, eps=1e-05, momentum=0.1, affine=True, track_running_stats=True)\n",
              "      (conv2): Conv2d(512, 512, kernel_size=(3, 3), stride=(1, 1), padding=(1, 1))\n",
              "      (bn2): BatchNorm2d(512, eps=1e-05, momentum=0.1, affine=True, track_running_stats=True)\n",
              "      (relu): ReLU()\n",
              "    )\n",
              "  )\n",
              "  (avgpool): AdaptiveAvgPool2d(output_size=(1, 1))\n",
              "  (flatten): Flatten(start_dim=1, end_dim=-1)\n",
              "  (dropout): Dropout(p=0.4, inplace=False)\n",
              "  (fc): Linear(in_features=512, out_features=10, bias=True)\n",
              ")"
            ]
          },
          "metadata": {
            "tags": []
          },
          "execution_count": 12
        }
      ]
    },
    {
      "cell_type": "markdown",
      "metadata": {
        "id": "GM-pybTCTIa2"
      },
      "source": [
        "### **Defining methods for training the model**"
      ]
    },
    {
      "cell_type": "code",
      "metadata": {
        "id": "rXAp_CoNdqow"
      },
      "source": [
        "def loss_batch(model, loss_fn, xb, yb, opt=None, metric=None):\n",
        "    preds = model(xb)\n",
        "    loss = loss_fn(preds, yb)\n",
        "\n",
        "    if opt is not None:\n",
        "        loss.backward()\n",
        "        opt.step()\n",
        "        opt.zero_grad()\n",
        "    \n",
        "    metric_result = None\n",
        "    if metric is not None:\n",
        "        metric_result = metric(preds, yb)\n",
        "    \n",
        "    return loss.item(), len(xb), metric_result"
      ],
      "execution_count": 13,
      "outputs": []
    },
    {
      "cell_type": "code",
      "metadata": {
        "id": "cTS744WWftGk"
      },
      "source": [
        "def evaluate(model, loss_fn, valid_dl, metric=None):\n",
        "    with torch.no_grad():\n",
        "        results = [loss_batch(model, loss_fn, xb, yb, metric=metric)\n",
        "                   for xb, yb in valid_dl]\n",
        "        losses, nums, metrics = zip(*results)\n",
        "        \n",
        "        total = np.sum(nums)\n",
        "        avg_loss = np.sum(np.multiply(losses, nums)) / total\n",
        "        \n",
        "        avg_metric = None\n",
        "        if metric is not None:\n",
        "            avg_metric = np.sum(np.multiply(metrics, nums)) / total\n",
        "    \n",
        "    return avg_loss, total, avg_metric"
      ],
      "execution_count": 14,
      "outputs": []
    },
    {
      "cell_type": "code",
      "metadata": {
        "id": "r2fBYyuNh05r"
      },
      "source": [
        "def fit(epochs, model, loss_fn, train_dl, valid_dl,\n",
        "        opt_fn=None, lr=None, metric=None):\n",
        "    \n",
        "    train_losses, train_metrics, val_losses, val_metrics = [], [], [], []\n",
        "    if opt_fn is None:\n",
        "        opt_fn = torch.optim.SGD\n",
        "    opt = opt_fn(model.parameters(), lr=lr, weight_decay=3e-5)\n",
        "\n",
        "    for epoch in range(epochs):\n",
        "        model.train()\n",
        "        for xb, yb in train_dl:\n",
        "            loss_batch(model, loss_fn, xb, yb, opt, metric)\n",
        "\n",
        "        model.eval()\n",
        "        train_loss, _, train_metric = evaluate(model, loss_fn, train_dl, metric)\n",
        "        val_loss, _, val_metric = evaluate(model, loss_fn, valid_dl, metric)\n",
        "\n",
        "        train_losses.append(train_loss)\n",
        "        train_metrics.append(train_metric)\n",
        "        val_losses.append(val_loss)\n",
        "        val_metrics.append(val_metric)\n",
        "\n",
        "        if metric is None:\n",
        "            print('Epoch [{}/{}, train_loss: {:.4f}, val_loss: {:.4f}'\n",
        "                  .format(epoch+1, epochs, train_loss, val_loss))\n",
        "        else:\n",
        "            print('Epoch [{}/{}, train_loss: {:.4f}, train_{}: {:.4f}, val_loss: {:.4f}, val_{}: {:.4f}'\n",
        "                  .format(epoch+1, epochs, train_loss, metric.__name__, \n",
        "                          train_metric, val_loss, metric.__name__, val_metric))\n",
        "    \n",
        "    return train_losses, train_metrics, val_losses, val_metrics"
      ],
      "execution_count": 16,
      "outputs": []
    },
    {
      "cell_type": "code",
      "metadata": {
        "id": "RLchoToNlnwc"
      },
      "source": [
        "def accuracy(outputs, labels):\n",
        "    _, preds = torch.max(outputs, dim=1)\n",
        "    return torch.sum(preds == labels).item() / len(preds)"
      ],
      "execution_count": 17,
      "outputs": []
    },
    {
      "cell_type": "markdown",
      "metadata": {
        "id": "CayJmP4gTWi2"
      },
      "source": [
        "### **Training the model**"
      ]
    },
    {
      "cell_type": "code",
      "metadata": {
        "id": "LLT9BR5eoPM4"
      },
      "source": [
        "num_epochs = 30\n",
        "opt_fn = torch.optim.Adam\n",
        "lr = 0.001"
      ],
      "execution_count": 18,
      "outputs": []
    },
    {
      "cell_type": "code",
      "metadata": {
        "colab": {
          "base_uri": "https://localhost:8080/"
        },
        "id": "XX8TO6FZbWYM",
        "outputId": "5f9a8f19-2474-46f1-903a-4a30f62dd9e7"
      },
      "source": [
        "history = fit(num_epochs, model, F.cross_entropy, train_dl, test_dl, opt_fn, lr, metric=accuracy)\n",
        "train_losses, train_metrics, val_losses, val_metrics = history"
      ],
      "execution_count": 19,
      "outputs": [
        {
          "output_type": "stream",
          "text": [
            "Epoch [1/30, train_loss: 1.6375, train_accuracy: 0.4448, val_loss: 1.5480, val_accuracy: 0.4693\n",
            "Epoch [2/30, train_loss: 1.4527, train_accuracy: 0.5503, val_loss: 1.6015, val_accuracy: 0.5611\n",
            "Epoch [3/30, train_loss: 1.0527, train_accuracy: 0.6312, val_loss: 1.0301, val_accuracy: 0.6435\n",
            "Epoch [4/30, train_loss: 0.9164, train_accuracy: 0.6835, val_loss: 0.9204, val_accuracy: 0.6923\n",
            "Epoch [5/30, train_loss: 1.1282, train_accuracy: 0.6306, val_loss: 1.1820, val_accuracy: 0.6373\n",
            "Epoch [6/30, train_loss: 0.7877, train_accuracy: 0.7285, val_loss: 0.8045, val_accuracy: 0.7269\n",
            "Epoch [7/30, train_loss: 0.7507, train_accuracy: 0.7370, val_loss: 0.7800, val_accuracy: 0.7344\n",
            "Epoch [8/30, train_loss: 0.7367, train_accuracy: 0.7403, val_loss: 0.7253, val_accuracy: 0.7476\n",
            "Epoch [9/30, train_loss: 0.7002, train_accuracy: 0.7562, val_loss: 0.7475, val_accuracy: 0.7482\n",
            "Epoch [10/30, train_loss: 0.7476, train_accuracy: 0.7502, val_loss: 0.7932, val_accuracy: 0.7418\n",
            "Epoch [11/30, train_loss: 0.6553, train_accuracy: 0.7691, val_loss: 0.6631, val_accuracy: 0.7744\n",
            "Epoch [12/30, train_loss: 0.5963, train_accuracy: 0.7907, val_loss: 0.6469, val_accuracy: 0.7790\n",
            "Epoch [13/30, train_loss: 0.7320, train_accuracy: 0.7479, val_loss: 0.7856, val_accuracy: 0.7409\n",
            "Epoch [14/30, train_loss: 0.5469, train_accuracy: 0.8092, val_loss: 0.6045, val_accuracy: 0.7939\n",
            "Epoch [15/30, train_loss: 0.5275, train_accuracy: 0.8171, val_loss: 0.5885, val_accuracy: 0.8036\n",
            "Epoch [16/30, train_loss: 0.5211, train_accuracy: 0.8182, val_loss: 0.6138, val_accuracy: 0.7930\n",
            "Epoch [17/30, train_loss: 0.5027, train_accuracy: 0.8233, val_loss: 0.5800, val_accuracy: 0.8046\n",
            "Epoch [18/30, train_loss: 0.4829, train_accuracy: 0.8327, val_loss: 0.5625, val_accuracy: 0.8088\n",
            "Epoch [19/30, train_loss: 0.4662, train_accuracy: 0.8356, val_loss: 0.5819, val_accuracy: 0.8060\n",
            "Epoch [20/30, train_loss: 0.4706, train_accuracy: 0.8332, val_loss: 0.5564, val_accuracy: 0.8139\n",
            "Epoch [21/30, train_loss: 0.4334, train_accuracy: 0.8481, val_loss: 0.5333, val_accuracy: 0.8169\n",
            "Epoch [22/30, train_loss: 0.4190, train_accuracy: 0.8557, val_loss: 0.5258, val_accuracy: 0.8234\n",
            "Epoch [23/30, train_loss: 0.4267, train_accuracy: 0.8502, val_loss: 0.5307, val_accuracy: 0.8201\n",
            "Epoch [24/30, train_loss: 0.4141, train_accuracy: 0.8567, val_loss: 0.5299, val_accuracy: 0.8240\n",
            "Epoch [25/30, train_loss: 0.4326, train_accuracy: 0.8487, val_loss: 0.5589, val_accuracy: 0.8174\n",
            "Epoch [26/30, train_loss: 0.4040, train_accuracy: 0.8582, val_loss: 0.5338, val_accuracy: 0.8205\n",
            "Epoch [27/30, train_loss: 0.3678, train_accuracy: 0.8702, val_loss: 0.5136, val_accuracy: 0.8223\n",
            "Epoch [28/30, train_loss: 0.3464, train_accuracy: 0.8784, val_loss: 0.5056, val_accuracy: 0.8351\n",
            "Epoch [29/30, train_loss: 0.3697, train_accuracy: 0.8743, val_loss: 0.5121, val_accuracy: 0.8329\n",
            "Epoch [30/30, train_loss: 0.3593, train_accuracy: 0.8750, val_loss: 0.5076, val_accuracy: 0.8293\n"
          ],
          "name": "stdout"
        }
      ]
    },
    {
      "cell_type": "code",
      "metadata": {
        "colab": {
          "base_uri": "https://localhost:8080/",
          "height": 501
        },
        "id": "6lo7VSqLb3QC",
        "outputId": "34129cb1-09ae-4045-dc36-16a597afd0a7"
      },
      "source": [
        "plt.figure(figsize=(16, 8))\n",
        "\n",
        "plt.subplot(1, 2, 1)\n",
        "plt.plot(np.arange(1, num_epochs+1), train_losses, label='Training Loss')\n",
        "plt.plot(np.arange(1, num_epochs+1), val_losses, label='Validation Loss')\n",
        "plt.axis([0, num_epochs, 0, 2])\n",
        "plt.xlabel(\"Epochs\")\n",
        "plt.ylabel(\"Loss\")\n",
        "plt.legend()\n",
        "\n",
        "plt.subplot(1, 2, 2)\n",
        "plt.plot(np.arange(1, num_epochs+1), train_metrics, label='Training Accuracy')\n",
        "plt.plot(np.arange(1, num_epochs+1), val_metrics, label='Validation Accuracy')\n",
        "plt.axis([0, num_epochs, 0, 1])\n",
        "plt.xlabel(\"Epochs\")\n",
        "plt.ylabel(\"Accuracy\")\n",
        "plt.legend()\n",
        "plt.show()"
      ],
      "execution_count": 20,
      "outputs": [
        {
          "output_type": "display_data",
          "data": {
            "image/png": "[encoded data removed]",
            "text/plain": [
              "<Figure size 1152x576 with 2 Axes>"
            ]
          },
          "metadata": {
            "tags": [],
            "needs_background": "light"
          }
        }
      ]
    },
    {
      "cell_type": "markdown",
      "metadata": {
        "id": "AnJykxH8Ttg1"
      },
      "source": [
        "### **Testing the trained model**"
      ]
    },
    {
      "cell_type": "code",
      "metadata": {
        "colab": {
          "base_uri": "https://localhost:8080/"
        },
        "id": "o3dF4agRlvH3",
        "outputId": "524fb3b6-cbd5-42f9-ef17-54ed809f023c"
      },
      "source": [
        "test_loss, _, test_accuracy = evaluate(model, F.cross_entropy, test_dl, accuracy)\n",
        "print('Test Loss: {:.4f}, Test Accuracy: {:.4f}'.format(test_loss, test_accuracy))"
      ],
      "execution_count": 21,
      "outputs": [
        {
          "output_type": "stream",
          "text": [
            "Test Loss: 0.5076, Test Accuracy: 0.8293\n"
          ],
          "name": "stdout"
        }
      ]
    },
    {
      "cell_type": "markdown",
      "metadata": {
        "id": "U1KkxNebT5kO"
      },
      "source": [
        "### **Saving the model**"
      ]
    },
    {
      "cell_type": "code",
      "metadata": {
        "id": "zEiGDfEam768"
      },
      "source": [
        "torch.save(model.state_dict(), 'cifar10-resnet18.pth')    # saves the weights and biases matrices\n",
        "# to load back, need to define the same structure and then use this file"
      ],
      "execution_count": 22,
      "outputs": []
    },
    {
      "cell_type": "markdown",
      "metadata": {
        "id": "A4ERH58HGM7e"
      },
      "source": [
        "- Tried Training for few more epochs (allowing model to overfit)\n",
        "- Didn't help much. But 3 percent gain is still a gain"
      ]
    },
    {
      "cell_type": "code",
      "metadata": {
        "colab": {
          "base_uri": "https://localhost:8080/"
        },
        "id": "yYxWit7ZBcQI",
        "outputId": "2b7aa666-50d5-4fbf-9069-e2883eb41069"
      },
      "source": [
        "history_pt = fit(15, model, F.cross_entropy, train_dl, test_dl, opt_fn, 0.0003, metric=accuracy)"
      ],
      "execution_count": 24,
      "outputs": [
        {
          "output_type": "stream",
          "text": [
            "Epoch [1/15, train_loss: 0.2529, train_accuracy: 0.9126, val_loss: 0.4557, val_accuracy: 0.8516\n",
            "Epoch [2/15, train_loss: 0.2388, train_accuracy: 0.9160, val_loss: 0.4628, val_accuracy: 0.8537\n",
            "Epoch [3/15, train_loss: 0.2328, train_accuracy: 0.9185, val_loss: 0.4634, val_accuracy: 0.8530\n",
            "Epoch [4/15, train_loss: 0.2234, train_accuracy: 0.9225, val_loss: 0.4576, val_accuracy: 0.8580\n",
            "Epoch [5/15, train_loss: 0.2134, train_accuracy: 0.9255, val_loss: 0.4637, val_accuracy: 0.8570\n",
            "Epoch [6/15, train_loss: 0.2067, train_accuracy: 0.9277, val_loss: 0.4692, val_accuracy: 0.8576\n",
            "Epoch [7/15, train_loss: 0.2043, train_accuracy: 0.9273, val_loss: 0.4778, val_accuracy: 0.8554\n",
            "Epoch [8/15, train_loss: 0.1952, train_accuracy: 0.9314, val_loss: 0.4695, val_accuracy: 0.8561\n",
            "Epoch [9/15, train_loss: 0.1909, train_accuracy: 0.9337, val_loss: 0.4723, val_accuracy: 0.8560\n",
            "Epoch [10/15, train_loss: 0.1841, train_accuracy: 0.9353, val_loss: 0.4715, val_accuracy: 0.8598\n",
            "Epoch [11/15, train_loss: 0.1823, train_accuracy: 0.9351, val_loss: 0.4940, val_accuracy: 0.8536\n",
            "Epoch [12/15, train_loss: 0.1840, train_accuracy: 0.9357, val_loss: 0.4951, val_accuracy: 0.8528\n",
            "Epoch [13/15, train_loss: 0.1765, train_accuracy: 0.9373, val_loss: 0.5086, val_accuracy: 0.8491\n",
            "Epoch [14/15, train_loss: 0.2018, train_accuracy: 0.9353, val_loss: 0.5147, val_accuracy: 0.8527\n",
            "Epoch [15/15, train_loss: 0.1669, train_accuracy: 0.9408, val_loss: 0.4870, val_accuracy: 0.8580\n"
          ],
          "name": "stdout"
        }
      ]
    },
    {
      "cell_type": "code",
      "metadata": {
        "id": "Nfb18mYCGcrM"
      },
      "source": [
        ""
      ],
      "execution_count": null,
      "outputs": []
    }
  ]
}